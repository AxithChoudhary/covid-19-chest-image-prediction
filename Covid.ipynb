{
  "nbformat": 4,
  "nbformat_minor": 0,
  "metadata": {
    "colab": {
      "name": "Covid.ipynb",
      "private_outputs": true,
      "provenance": [],
      "collapsed_sections": [],
      "authorship_tag": "ABX9TyMGHGHn/bWyef3vAZ77IT80",
      "include_colab_link": true
    },
    "kernelspec": {
      "name": "python3",
      "display_name": "Python 3"
    },
    "language_info": {
      "name": "python"
    },
    "accelerator": "GPU"
  },
  "cells": [
    {
      "cell_type": "markdown",
      "metadata": {
        "id": "view-in-github",
        "colab_type": "text"
      },
      "source": [
        "<a href=\"https://colab.research.google.com/github/AxithChoudhary/covid-19-chest-image-prediction/blob/main/Covid.ipynb\" target=\"_parent\"><img src=\"https://colab.research.google.com/assets/colab-badge.svg\" alt=\"Open In Colab\"/></a>"
      ]
    },
    {
      "cell_type": "code",
      "execution_count": null,
      "metadata": {
        "id": "XIgGocrtAbSt"
      },
      "outputs": [],
      "source": [
        "import tensorflow as tf\n",
        "import numpy as np\n",
        "print(tf.__version__)\n",
        "!python --version"
      ]
    },
    {
      "cell_type": "code",
      "source": [
        "from google.colab import drive\n",
        "drive.mount('/content/drive')"
      ],
      "metadata": {
        "id": "opRooduABptx"
      },
      "execution_count": null,
      "outputs": []
    },
    {
      "cell_type": "code",
      "source": [
        "import zipfile\n",
        "zip_ref = zipfile.ZipFile(\"/content/drive/MyDrive/Study material /ML/NEPTL/Time series /Covid dataset/15.1 covid19.zip\", 'r')\n",
        "zip_ref.extractall(\"/tmp\")\n",
        "zip_ref.close()"
      ],
      "metadata": {
        "id": "vDioNV-uB3YE"
      },
      "execution_count": null,
      "outputs": []
    },
    {
      "cell_type": "code",
      "source": [
        "test_path=\"/tmp/covid19/test\"\n",
        "train_path=\"/tmp/covid19/train\""
      ],
      "metadata": {
        "id": "NWI2Ia7hC92M"
      },
      "execution_count": null,
      "outputs": []
    },
    {
      "cell_type": "code",
      "source": [
        ""
      ],
      "metadata": {
        "id": "c_jQjGTKDRbP"
      },
      "execution_count": null,
      "outputs": []
    },
    {
      "cell_type": "code",
      "source": [
        "batch_size=32\n",
        "img_height=img_width=100"
      ],
      "metadata": {
        "id": "b-gR23c2DR3-"
      },
      "execution_count": null,
      "outputs": []
    },
    {
      "cell_type": "code",
      "source": [
        "train_ds=tf.keras.preprocessing.image_dataset_from_directory(train_path,image_size=(img_width,img_height),label_mode='int',batch_size=batch_size)"
      ],
      "metadata": {
        "id": "ZlqeSV2QDbLa"
      },
      "execution_count": null,
      "outputs": []
    },
    {
      "cell_type": "code",
      "source": [
        "val_ds=tf.keras.preprocessing.image_dataset_from_directory(test_path,image_size=(img_width,img_height),label_mode='int',batch_size=batch_size)"
      ],
      "metadata": {
        "id": "uO0SDy3OEFM4"
      },
      "execution_count": null,
      "outputs": []
    },
    {
      "cell_type": "code",
      "source": [
        "train_ds.prefetch(1)"
      ],
      "metadata": {
        "id": "Cch-iXZuEgbu"
      },
      "execution_count": null,
      "outputs": []
    },
    {
      "cell_type": "code",
      "source": [
        "class_names=train_ds.class_names\n",
        "num_classes=len(class_names)\n",
        "print(class_names)"
      ],
      "metadata": {
        "id": "X5E3sp2CEiAK"
      },
      "execution_count": null,
      "outputs": []
    },
    {
      "cell_type": "code",
      "source": [
        "import matplotlib.pyplot as plt\n",
        "plt.figure(figsize=(12,12))\n",
        "for img ,label in val_ds.take(1):\n",
        "  for i in range(12):\n",
        "    ax=plt.subplot(4,3,i+1)\n",
        "    plt.imshow(img[i].numpy().astype(\"uint8\"))\n",
        "    plt.title(class_names[label[i]])\n",
        "    plt.axis(\"off\")"
      ],
      "metadata": {
        "id": "f8zICfBIE1nB"
      },
      "execution_count": null,
      "outputs": []
    },
    {
      "cell_type": "code",
      "source": [
        "norm_layer=tf.keras.layers.experimental.preprocessing.Rescaling(1./255)\n",
        "zoom_layer=tf.keras.layers.experimental.preprocessing.RandomZoom(height_factor=(0.1,0.3),width_factor=(0.1,0.3))\n",
        "rot_layer=tf.keras.layers.experimental.preprocessing.RandomRotation(factor=0.2)"
      ],
      "metadata": {
        "id": "VbbiAZY_F1cr"
      },
      "execution_count": null,
      "outputs": []
    },
    {
      "cell_type": "code",
      "source": [
        "from tensorflow.keras.layers import Conv2D,MaxPooling2D,Input,Flatten,Dense,BatchNormalization,Dropout\n",
        "from tensorflow.keras.models import Sequential"
      ],
      "metadata": {
        "id": "W-s7daonGy4k"
      },
      "execution_count": null,
      "outputs": []
    },
    {
      "cell_type": "code",
      "source": [
        "def  get_model(num_classes):\n",
        "  model=Sequential([\n",
        "                    norm_layer,zoom_layer,rot_layer,\n",
        "                    Conv2D(16,(5,5),padding='same',activation=\"relu\"),\n",
        "                    MaxPooling2D((2,2),strides=(1,1)),\n",
        "                    BatchNormalization(),\n",
        "                    Dropout(0.3),\n",
        "                    Conv2D(16,(3,3),padding='same',activation=\"relu\"),\n",
        "                    MaxPooling2D((2,2),strides=(2,2)),\n",
        "                    Dropout(0.3),\n",
        "                    Flatten(),\n",
        "                    Dense(256,activation='relu'),\n",
        "                    Dropout(0.5),\n",
        "                    Dense(num_classes,activation='softmax')\n",
        "\n",
        "  ])\n",
        "\n",
        "  model.compile(optimizer=tf.keras.optimizers.Adam(1e-4),\n",
        "                loss=tf.keras.losses.SparseCategoricalCrossentropy(from_logits=False,reduction=tf.keras.losses.Reduction.AUTO),metrics=['accuracy'])\n",
        "  return model"
      ],
      "metadata": {
        "id": "cgkMoUDnHZ7E"
      },
      "execution_count": null,
      "outputs": []
    },
    {
      "cell_type": "code",
      "source": [
        "model=get_model(num_classes=num_classes)"
      ],
      "metadata": {
        "id": "aDhck_oiK2Bv"
      },
      "execution_count": null,
      "outputs": []
    },
    {
      "cell_type": "code",
      "source": [
        "from traitlets.traitlets import validate\n",
        "history=model.fit(train_ds,validation_data=val_ds,epochs=50)"
      ],
      "metadata": {
        "id": "5KVtNZEFJjQR"
      },
      "execution_count": null,
      "outputs": []
    },
    {
      "cell_type": "code",
      "source": [
        "fig=plt.figure(figsize=(12,5))\n",
        "fig.add_subplot(121)\n",
        "plt.plot(history.history['loss'])\n",
        "plt.plot(history.history['val_loss'])\n",
        "plt.title('loss vs epoches')\n",
        "plt.ylabel(\"loss\")\n",
        "plt.xlabel(\"epoch\")\n",
        "plt.legend(['Traning','Validation'],loc='best')\n",
        "\n",
        "fig.add_subplot(122)\n",
        "plt.plot(history.history['accuracy'])\n",
        "plt.plot(history.history['val_accuracy'])\n",
        "plt.title('accuracy vs epochs')\n",
        "plt.ylabel(\"loss\")\n",
        "plt.xlabel(\"epoch\")\n",
        "plt.legend(['Traning','Validation'],loc='best')\n",
        "\n",
        "plt.show()"
      ],
      "metadata": {
        "id": "LsUDre69L0uA"
      },
      "execution_count": null,
      "outputs": []
    },
    {
      "cell_type": "code",
      "source": [
        "from tensorflow.keras.preprocessing.image import ImageDataGenerator\n",
        "test_datagen=ImageDataGenerator()\n",
        "\n",
        "test_ds=test_datagen.flow_from_directory(test_path,target_size=(img_height,img_width),batch_size=1,class_mode='categorical',color_mode='rgb',shuffle=False,seed=2021)\n"
      ],
      "metadata": {
        "id": "oVOeB8r-NTKC"
      },
      "execution_count": null,
      "outputs": []
    },
    {
      "cell_type": "code",
      "source": [
        "test_ds.reset()\n",
        "predictions=model.predict(test_ds,steps=len(test_ds.filenames),verbose=1)"
      ],
      "metadata": {
        "id": "ui67dYahOLYU"
      },
      "execution_count": null,
      "outputs": []
    },
    {
      "cell_type": "code",
      "source": [
        "import pandas as pd\n",
        "\n",
        "predicted_class_indices=np.argmax(predictions,axis=1)\n",
        "labels=(test_ds.class_indices)\n",
        "labels=dict((v,k) for k,v in labels.items())\n",
        "pred_labels=[labels[k] for k in predicted_class_indices]\n",
        "filemanes=test_ds.filenames\n",
        "results=pd.DataFrame({\"Filename\":test_ds.filenames,\"Predictions\":pred_labels})\n",
        "results.tail(60)"
      ],
      "metadata": {
        "id": "Gxhoy_TrOs3B"
      },
      "execution_count": null,
      "outputs": []
    },
    {
      "cell_type": "code",
      "source": [
        ""
      ],
      "metadata": {
        "id": "nHZbZifNP1_2"
      },
      "execution_count": null,
      "outputs": []
    }
  ]
}